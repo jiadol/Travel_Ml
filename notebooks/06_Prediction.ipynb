{
 "cells": [
  {
   "cell_type": "code",
   "id": "initial_id",
   "metadata": {
    "collapsed": true
   },
   "source": [
    "import torch\n",
    "from neuralforecast import NeuralForecast\n",
    "\n",
    "nf = NeuralForecast.load(path='../models/neuralforecast_models')\n",
    "\n",
    "pred = nf.predict().reset_index()"
   ],
   "outputs": [],
   "execution_count": null
  },
  {
   "metadata": {},
   "cell_type": "code",
   "source": [
    "from sqlalchemy import create_engine\n",
    "from neuralforecast.losses.numpy import mae, rmse, mape\n",
    "import pandas as pd\n",
    "\n",
    "# 创建数据库引擎\n",
    "table_hk_daily = \"hk_customs_daily\"\n",
    "database_url = \"sqlite:///../data/data.sqlite\"\n",
    "engine = create_engine(database_url)\n",
    "\n",
    "cross_val = pd.read_sql('model_evaluation', con=engine)\n",
    "cross_val.head()\n",
    "horizon = 30\n",
    "\n",
    "model_names = ['AutoLSTM', 'AutoInformer', 'AutoAutoformer', 'AutoPatchTST', 'AutoiTransformer']\n",
    "\n",
    "\n",
    "def eval_accuracy(df):\n",
    "    unique_ids = df['unique_id'].unique()\n",
    "    for unique_id in unique_ids:\n",
    "        df_tmp = df[df['unique_id'] == unique_id]\n",
    "        print(unique_id)\n",
    "        y_true = df_tmp['y']\n",
    "        for model_name in model_names:\n",
    "            y_pred = df_tmp[model_name]\n",
    "            print(\n",
    "                f'{model_name} -- mae: {mae(y_true, y_pred)},rmse: {rmse(y_true, y_pred)}, mape: {mape(y_true, y_pred)}')\n",
    "\n",
    "\n",
    "eval_accuracy(cross_val)"
   ],
   "id": "68f95af1fc6e295",
   "outputs": [],
   "execution_count": null
  }
 ],
 "metadata": {
  "kernelspec": {
   "display_name": "Python 3",
   "language": "python",
   "name": "python3"
  },
  "language_info": {
   "codemirror_mode": {
    "name": "ipython",
    "version": 2
   },
   "file_extension": ".py",
   "mimetype": "text/x-python",
   "name": "python",
   "nbconvert_exporter": "python",
   "pygments_lexer": "ipython2",
   "version": "2.7.6"
  }
 },
 "nbformat": 4,
 "nbformat_minor": 5
}
