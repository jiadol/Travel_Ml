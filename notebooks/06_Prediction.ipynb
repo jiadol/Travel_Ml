{
 "cells": [
  {
   "cell_type": "code",
   "id": "initial_id",
   "metadata": {
    "collapsed": true,
    "ExecuteTime": {
     "end_time": "2024-04-18T17:50:19.841728Z",
     "start_time": "2024-04-18T17:50:17.590814Z"
    }
   },
   "source": [
    "from neuralforecast import NeuralForecast\n",
    "\n",
    "nf = NeuralForecast.load(path='../models/nerualforecast_models')\n",
    "# Y_hat_df = nf.predict().reset_index()\n",
    "# Y_hat_df"
   ],
   "outputs": [
    {
     "name": "stderr",
     "output_type": "stream",
     "text": [
      "/opt/homebrew/Caskroom/miniconda/base/lib/python3.11/site-packages/pytorch_lightning/utilities/parsing.py:199: Attribute 'loss' is an instance of `nn.Module` and is already saved during checkpointing. It is recommended to ignore them using `self.save_hyperparameters(ignore=['loss'])`.\n",
      "/opt/homebrew/Caskroom/miniconda/base/lib/python3.11/site-packages/pytorch_lightning/utilities/parsing.py:199: Attribute 'valid_loss' is an instance of `nn.Module` and is already saved during checkpointing. It is recommended to ignore them using `self.save_hyperparameters(ignore=['valid_loss'])`.\n",
      "Seed set to 42\n",
      "Seed set to 42\n",
      "Seed set to 13\n",
      "Seed set to 19\n",
      "Seed set to 42\n"
     ]
    },
    {
     "ename": "KeyError",
     "evalue": "'local_scaler_type'",
     "output_type": "error",
     "traceback": [
      "\u001B[0;31m---------------------------------------------------------------------------\u001B[0m",
      "\u001B[0;31mKeyError\u001B[0m                                  Traceback (most recent call last)",
      "Cell \u001B[0;32mIn[1], line 3\u001B[0m\n\u001B[1;32m      1\u001B[0m \u001B[38;5;28;01mfrom\u001B[39;00m \u001B[38;5;21;01mneuralforecast\u001B[39;00m \u001B[38;5;28;01mimport\u001B[39;00m NeuralForecast\n\u001B[0;32m----> 3\u001B[0m nf \u001B[38;5;241m=\u001B[39m NeuralForecast\u001B[38;5;241m.\u001B[39mload(path\u001B[38;5;241m=\u001B[39m\u001B[38;5;124m'\u001B[39m\u001B[38;5;124m../models/nerualforecast_models\u001B[39m\u001B[38;5;124m'\u001B[39m)\n",
      "File \u001B[0;32m/opt/homebrew/Caskroom/miniconda/base/lib/python3.11/site-packages/neuralforecast/core.py:1171\u001B[0m, in \u001B[0;36mNeuralForecast.load\u001B[0;34m(path, verbose, **kwargs)\u001B[0m\n\u001B[1;32m   1165\u001B[0m     \u001B[38;5;28;01mraise\u001B[39;00m \u001B[38;5;167;01mException\u001B[39;00m(\u001B[38;5;124m\"\u001B[39m\u001B[38;5;124mNo configuration found in directory.\u001B[39m\u001B[38;5;124m\"\u001B[39m)\n\u001B[1;32m   1167\u001B[0m \u001B[38;5;66;03m# Create NeuralForecast object\u001B[39;00m\n\u001B[1;32m   1168\u001B[0m neuralforecast \u001B[38;5;241m=\u001B[39m NeuralForecast(\n\u001B[1;32m   1169\u001B[0m     models\u001B[38;5;241m=\u001B[39mmodels,\n\u001B[1;32m   1170\u001B[0m     freq\u001B[38;5;241m=\u001B[39mconfig_dict[\u001B[38;5;124m\"\u001B[39m\u001B[38;5;124mfreq\u001B[39m\u001B[38;5;124m\"\u001B[39m],\n\u001B[0;32m-> 1171\u001B[0m     local_scaler_type\u001B[38;5;241m=\u001B[39mconfig_dict[\u001B[38;5;124m\"\u001B[39m\u001B[38;5;124mlocal_scaler_type\u001B[39m\u001B[38;5;124m\"\u001B[39m],\n\u001B[1;32m   1172\u001B[0m )\n\u001B[1;32m   1174\u001B[0m \u001B[38;5;28;01mfor\u001B[39;00m attr \u001B[38;5;129;01min\u001B[39;00m [\u001B[38;5;124m\"\u001B[39m\u001B[38;5;124mid_col\u001B[39m\u001B[38;5;124m\"\u001B[39m, \u001B[38;5;124m\"\u001B[39m\u001B[38;5;124mtime_col\u001B[39m\u001B[38;5;124m\"\u001B[39m, \u001B[38;5;124m\"\u001B[39m\u001B[38;5;124mtarget_col\u001B[39m\u001B[38;5;124m\"\u001B[39m]:\n\u001B[1;32m   1175\u001B[0m     \u001B[38;5;28msetattr\u001B[39m(neuralforecast, attr, config_dict[attr])\n",
      "\u001B[0;31mKeyError\u001B[0m: 'local_scaler_type'"
     ]
    }
   ],
   "execution_count": 1
  },
  {
   "metadata": {
    "ExecuteTime": {
     "end_time": "2024-04-08T23:44:46.350690Z",
     "start_time": "2024-04-08T23:44:45.676941Z"
    }
   },
   "cell_type": "code",
   "source": [
    "from sqlalchemy import create_engine\n",
    "from neuralforecast.losses.numpy import mae, rmse, mape\n",
    "import pandas as pd\n",
    "\n",
    "# 创建数据库引擎\n",
    "table_hk_daily = \"hk_customs_daily\"\n",
    "database_url = \"sqlite:///../data/data.sqlite\"\n",
    "engine = create_engine(database_url)\n",
    "\n",
    "cross_val = pd.read_sql('model_evaluation', con=engine)\n",
    "cross_val.head()\n",
    "horizon = 30\n",
    "\n",
    "model_names = ['AutoLSTM', 'AutoInformer', 'AutoAutoformer', 'AutoPatchTST', 'AutoiTransformer']\n",
    "\n",
    "\n",
    "def eval_accuracy(df):\n",
    "    unique_ids = df['unique_id'].unique()\n",
    "    for unique_id in unique_ids:\n",
    "        df_tmp = df[df['unique_id'] == unique_id]\n",
    "        print(unique_id)\n",
    "        y_true = df_tmp['y']\n",
    "        for model_name in model_names:\n",
    "            y_pred = df_tmp[model_name]\n",
    "            print(\n",
    "                f'{model_name} -- mae: {mae(y_true, y_pred)},rmse: {rmse(y_true, y_pred)}, mape: {mape(y_true, y_pred)}')\n",
    "\n",
    "\n",
    "eval_accuracy(cross_val)"
   ],
   "id": "68f95af1fc6e295",
   "outputs": [
    {
     "name": "stdout",
     "output_type": "stream",
     "text": [
      "global_entry\n",
      "AutoLSTM -- mae: 14110.0919428493,rmse: 14972.674543630003, mape: 18.770284321634524\n",
      "AutoInformer -- mae: 1114.5136750941263,rmse: 1791.572690967101, mape: 1.0894912281002742\n",
      "AutoAutoformer -- mae: 1291.6186079445501,rmse: 2457.1869089040288, mape: 2.1216587255436266\n",
      "AutoPatchTST -- mae: 868.5951756003689,rmse: 1333.490100733135, mape: 0.9371841137925336\n",
      "AutoiTransformer -- mae: 1145.0239178625536,rmse: 2004.6183513190758, mape: 1.273891737942044\n",
      "hkmo_entry\n",
      "AutoLSTM -- mae: 1135.3187897438563,rmse: 1282.0869392390612, mape: 6.910190322169486\n",
      "AutoInformer -- mae: 268.3318524158918,rmse: 383.6597714619629, mape: 1.0542506993382288\n",
      "AutoAutoformer -- mae: 287.43014613008455,rmse: 418.18092356333125, mape: 1.8041470093678085\n",
      "AutoPatchTST -- mae: 213.31807764919168,rmse: 307.2672474839976, mape: 0.904812704611298\n",
      "AutoiTransformer -- mae: 271.836999027356,rmse: 399.76857875368574, mape: 1.1651347953938322\n",
      "tw_entry\n",
      "AutoLSTM -- mae: 1876.735905588409,rmse: 2115.036044413412, mape: 6.821723623493751\n",
      "AutoInformer -- mae: 413.3119559482292,rmse: 578.0813094637977, mape: 0.8670343790180047\n",
      "AutoAutoformer -- mae: 434.152965253167,rmse: 626.0430524678096, mape: 1.330601859906325\n",
      "AutoPatchTST -- mae: 320.5714350249353,rmse: 454.81967426731865, mape: 0.8038457223121923\n",
      "AutoiTransformer -- mae: 457.7852953642819,rmse: 692.0345481396062, mape: 1.0286624968496216\n"
     ]
    }
   ],
   "execution_count": 2
  }
 ],
 "metadata": {
  "kernelspec": {
   "display_name": "Python 3",
   "language": "python",
   "name": "python3"
  },
  "language_info": {
   "codemirror_mode": {
    "name": "ipython",
    "version": 2
   },
   "file_extension": ".py",
   "mimetype": "text/x-python",
   "name": "python",
   "nbconvert_exporter": "python",
   "pygments_lexer": "ipython2",
   "version": "2.7.6"
  }
 },
 "nbformat": 4,
 "nbformat_minor": 5
}
